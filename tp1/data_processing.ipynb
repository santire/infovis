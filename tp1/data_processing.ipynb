{
 "cells": [
  {
   "cell_type": "code",
   "execution_count": 1,
   "id": "fd755b0a",
   "metadata": {},
   "outputs": [],
   "source": [
    "import pandas as pd\n",
    "import matplotlib.pyplot as plt\n",
    "import seaborn as sns\n",
    "from itertools import accumulate"
   ]
  },
  {
   "cell_type": "markdown",
   "id": "46cb7a59",
   "metadata": {},
   "source": [
    "# Trabajo Práctico: Datos Personales"
   ]
  },
  {
   "cell_type": "markdown",
   "id": "c36fa7c4",
   "metadata": {},
   "source": [
    "## Recolleción de datos personales"
   ]
  },
  {
   "cell_type": "markdown",
   "id": "8cfbf7ca",
   "metadata": {},
   "source": [
    "Mis datos personales consisten de mi consumo de café y de la calidad de mi sueño. \n",
    "\n",
    "### Café\n",
    "\n",
    "Para recolectar mis datos de consumó de café simplemente anoté la fecha, la cantidad de café que consumí y a qué hora. Generalmente consumo café de filtro negro solo, pero de vez en cuando también tomo algún Mocha que contiene espresso no café de filtro. Para esos casos investigué las cantidades de cafeína que contiene el café de filtro y el espresso y normalicé todos los resultados al equivalente en café de filtro. No es un valor exacto ya que eso depende de exactamente el grano y el proceso que se haya utilizado, pero es un aproximado que me parece bastante válido.\n",
    "\n",
    "### Sueño\n",
    "\n",
    "Para recolectar mis datos de sueño utilicé una aplicación para el celular que se llama \"Sleep as Android\". Al momento de irme a dormir pongo la aplicación en su modo de \"Sleep Tracking\" y dado que uso esta aplicación para mi despertador, se corta solo en el momento que me despierto. Ya con eso puede calcular la cantidad de tiempo que estuve durmiendo. Además, esta aplicación utiliza un sistema sonar, emite un sonido a una frecuencia  alta que no se escucha (para los humanos) y después usa el micrófono del teléfono para recolectar el sonido del ambiente, procesa esos datos y en base a eso presenta resultados de la calidad de sueño. En particular: Hora en la que me acosté, Horas de sueño, veces que me desperte y horas de sueño profundo."
   ]
  },
  {
   "cell_type": "markdown",
   "id": "7e46a77f",
   "metadata": {},
   "source": [
    "## Procesamiento de datos personales"
   ]
  },
  {
   "cell_type": "markdown",
   "id": "38245142",
   "metadata": {},
   "source": [
    "La mayoría de mis datos se pueden usar tal cual fueron recolectados, excepto por uno y ese es el déficit de sueño. El déficit de sueño lo largo de un período $T$ se define como:\n",
    "\n",
    "Sean $K=7.5$ La cantidad de horas de sueño ideales y $h_i$ la cantidad de horas\n",
    "$$\n",
    "deficit_t=\\sum_{i}^{t}{K - h_i}\n",
    "$$\n",
    "\n",
    "Para cada entrada calculé el déficit acumulado hasta ese punto. Lo hice directamente con sheets y además lo corroboré de la siguiente manera."
   ]
  },
  {
   "cell_type": "code",
   "execution_count": 4,
   "id": "1ef183a5",
   "metadata": {
    "scrolled": true
   },
   "outputs": [],
   "source": [
    "# Levanto el archivo csv a un dataframe\n",
    "df = pd.read_csv(\"datos_personales/sleep.csv\")\n"
   ]
  },
  {
   "cell_type": "code",
   "execution_count": 8,
   "id": "2f1fc3f8",
   "metadata": {},
   "outputs": [
    {
     "name": "stdout",
     "output_type": "stream",
     "text": [
      "    Déficit      0\n",
      "0     -0.42  -0.42\n",
      "1     -1.00  -1.00\n",
      "2     -0.35  -0.35\n",
      "3      1.05   1.05\n",
      "4      0.28   0.28\n",
      "5      2.72   2.71\n",
      "6      2.90   2.89\n",
      "7      3.98   3.97\n",
      "8      5.05   5.04\n",
      "9      5.98   5.97\n",
      "10     5.85   5.84\n",
      "11     6.07   6.06\n",
      "12     8.40   8.39\n",
      "13    12.35  12.34\n",
      "14    13.57  13.56\n",
      "15    14.10  14.09\n",
      "16    12.77  12.76\n",
      "17    11.92  11.91\n",
      "18     9.83   9.83\n",
      "19    10.42  10.41\n",
      "20    11.18  11.18\n",
      "21    12.48  12.48\n",
      "22    13.07  13.06\n",
      "23    13.95  13.94\n",
      "24    14.78  14.77\n",
      "25    15.87  15.85\n"
     ]
    }
   ],
   "source": [
    "deficit_check = pd.Series(list(accumulate(df[\"Horas sueño\"], lambda l1, l2: 7.5-l2 + l1, initial=0))[1:])\n",
    "\n",
    "print(pd.concat([df[\"Déficit\"], deficit_check], axis=1))"
   ]
  },
  {
   "cell_type": "markdown",
   "id": "9c6741c8",
   "metadata": {},
   "source": [
    "Podemos ver que los resultados son iguales (salvo algunas diferencias de redondeo)"
   ]
  }
 ],
 "metadata": {
  "kernelspec": {
   "display_name": "Python 3 (ipykernel)",
   "language": "python",
   "name": "python3"
  },
  "language_info": {
   "codemirror_mode": {
    "name": "ipython",
    "version": 3
   },
   "file_extension": ".py",
   "mimetype": "text/x-python",
   "name": "python",
   "nbconvert_exporter": "python",
   "pygments_lexer": "ipython3",
   "version": "3.8.10"
  }
 },
 "nbformat": 4,
 "nbformat_minor": 5
}
